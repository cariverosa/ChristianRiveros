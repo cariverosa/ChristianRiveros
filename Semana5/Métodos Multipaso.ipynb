{
 "cells": [
  {
   "cell_type": "code",
   "execution_count": 1,
   "id": "c5979a87",
   "metadata": {},
   "outputs": [],
   "source": [
    "import numpy as np\n",
    "import sympy as sym\n",
    "from scipy import integrate"
   ]
  },
  {
   "cell_type": "markdown",
   "id": "7984e084",
   "metadata": {},
   "source": [
    "# Punto 2 \n",
    "## Coeficientes métodos Multipasos \n",
    "#### Se definen los valores para los pasados, el presente y los futuros así, respectivamente: \n",
    "$[-3h, -2h, -h, 0, h, 2h, 3h]$ \\\n",
    "$[t_{n-3}, t_{n-2}, t_{n-1}, t_{n},t_{n+1},t_{n+2}, t_{n+3}]$ \\\n",
    "$t_n - t_{n-k} = kh$\n"
   ]
  },
  {
   "cell_type": "code",
   "execution_count": 2,
   "id": "76d3fad3",
   "metadata": {},
   "outputs": [],
   "source": [
    "t = sym.Symbol('t',Real=True)\n",
    "h = sym.Symbol('h',Real=True)"
   ]
  },
  {
   "cell_type": "markdown",
   "id": "9f20ccf9",
   "metadata": {},
   "source": [
    "## Adams Bashfort 3 puntos \n",
    "\\begin{align}\n",
    "    L_0 &= (\\frac{t-t_{n-1}}{t_{n}-t_{n-1}})(\\frac{t-t_{n-2}}{t_{n}-t_{n-2}}) \\\\\n",
    "    L_1 &= (\\frac{t-t_{n}}{t_{n-1}-t_{n}})(\\frac{t-t_{n-2}}{t_{n-1}-t_{n-2}}) \\\\\n",
    "    L_2 &= (\\frac{t-t_{n}}{t_{n-2}-t_{n}})(\\frac{t-t_{n-1}}{t_{n-2}-t_{n-1}}) \\\\\n",
    "\\end{align}"
   ]
  },
  {
   "cell_type": "code",
   "execution_count": 3,
   "id": "e13c4a73",
   "metadata": {},
   "outputs": [
    {
     "name": "stdout",
     "output_type": "stream",
     "text": [
      "Los pesos para Adams Bashfort de 3 puntos son: [23*h/12, -4*h/3, 5*h/12]\n"
     ]
    }
   ],
   "source": [
    "F0 = (t-(-h))*(t-(-2*h))/((h)*(2*h))\n",
    "F1 = (t-(0))*(t-(-2*h))/((-h)*(h))\n",
    "F2 = (t-(0))*(t-(-h))/((-2*h)*(-h))\n",
    "I0 = sym.integrate(F0, (t,0,h))\n",
    "I1 = sym.integrate(F1, (t,0,h))\n",
    "I2 = sym.integrate(F2, (t,0,h))\n",
    "W = [I0, I1, I2]\n",
    "print(\"Los pesos para Adams Bashfort de 3 puntos son:\", str(W))"
   ]
  },
  {
   "cell_type": "markdown",
   "id": "2a661098",
   "metadata": {},
   "source": [
    "## Adams Bashfort 4 puntos \n",
    "\\begin{align}\n",
    "    L_0 &= (\\frac{t-t_{n-1}}{t_{n}-t_{n-1}})(\\frac{t-t_{n-2}}{t_{n}-t_{n-2}})(\\frac{t-t_{n-3}}{t_n - t_{n-3}}) \\\\\n",
    "    L_1 &= (\\frac{t-t_{n}}{t_{n-1}-t_{n}})(\\frac{t-t_{n-2}}{t_{n-1}-t_{n-2}})(\\frac{t-t_{n-3}}{t_{n-1} - t_{n-3}} \\\\\n",
    "    L_2 &= (\\frac{t-t_{n}}{t_{n-2}-t_{n}})(\\frac{t-t_{n-1}}{t_{n-2}-t_{n-1}})(\\frac{t-t_{n-3}}{t_{n-2} - t_{n-3}}) \\\\\n",
    "    L_3 &= (\\frac{t-t_{n}}{t_{n-3}-t_{n}})(\\frac{t-t_{n-1}}{t_{n-3}-t_{n-1}})(\\frac{t-t_{n-2}}{t_{n-3} - t_{n-2}}) \n",
    "\\end{align}"
   ]
  },
  {
   "cell_type": "code",
   "execution_count": 4,
   "id": "72fda257",
   "metadata": {},
   "outputs": [
    {
     "name": "stdout",
     "output_type": "stream",
     "text": [
      "Los pesos para Adams Bashfort de 4 puntos son: [55*h/24, -59*h/24, 37*h/24, -3*h/8]\n"
     ]
    }
   ],
   "source": [
    "F0 = (t-(-h))*(t-(-2*h))*(t-(-3*h))/((h)*(2*h)*(3*h))\n",
    "F1 = (t-(0))*(t-(-2*h))*(t-(-3*h))/((-h)*(h)*(2*h))\n",
    "F2 = (t-(0))*(t-(-h))*(t-(-3*h))/((-2*h)*(-h)*(h))\n",
    "F3 = (t-(0))*(t-(-h))*(t-(-2*h))/((-3*h)*(-2*h)*(-h))\n",
    "I0 = sym.integrate(F0, (t,0,h))\n",
    "I1 = sym.integrate(F1, (t,0,h))\n",
    "I2 = sym.integrate(F2, (t,0,h))\n",
    "I3 = sym.integrate(F3, (t,0,h))\n",
    "W = [I0, I1, I2, I3]\n",
    "print(\"Los pesos para Adams Bashfort de 4 puntos son:\", str(W))"
   ]
  },
  {
   "cell_type": "markdown",
   "id": "5a150c1b",
   "metadata": {},
   "source": [
    "## Adams Moulton 3 puntos \n",
    "\\begin{align}\n",
    "    L_0 &= (\\frac{t-t_{n}}{t_{n+1}-t_{n}})(\\frac{t-t_{n-1}}{t_{n+1}-t_{n-1}}) \\\\\n",
    "    L_1 &= (\\frac{t-t_{n+1}}{t_{n}-t_{n+1}})(\\frac{t-t_{n-1}}{t_{n}-t_{n-1}})  \\\\\n",
    "    L_2 &= (\\frac{t-t_{n+1}}{t_{n-1}-t_{n+1}})(\\frac{t-t_{n}}{t_{n-1}-t_{n}})   \\\\\n",
    "\\end{align}"
   ]
  },
  {
   "cell_type": "code",
   "execution_count": 6,
   "id": "f1098480",
   "metadata": {},
   "outputs": [
    {
     "name": "stdout",
     "output_type": "stream",
     "text": [
      "Los pesos para Adams Moulton de 3 puntos son: [5*h/12, 2*h/3, -h/12]\n"
     ]
    }
   ],
   "source": [
    "F0 = (t-(0))*(t-(-h))/((h)*(2*h))\n",
    "F1 = (t-(h))*(t-(-h))/((-h)*(h))\n",
    "F2 = (t-(h))*(t-(0))/((-2*h)*(-h))\n",
    "I0 = sym.integrate(F0, (t,0,h))\n",
    "I1 = sym.integrate(F1, (t,0,h))\n",
    "I2 = sym.integrate(F2, (t,0,h))\n",
    "W = [I0, I1, I2]\n",
    "print(\"Los pesos para Adams Moulton de 3 puntos son:\", str(W))"
   ]
  },
  {
   "cell_type": "markdown",
   "id": "db3b4f5e",
   "metadata": {},
   "source": [
    "## Adams Moulton 4 puntos \n",
    "\\begin{align}\n",
    "    L_0 &= (\\frac{t-t_{n}}{t_{n+1}-t_{n}})(\\frac{t-t_{n-1}}{t_{n+1}-t_{n-1}})(\\frac{t-t_{n-2}}{t_{n+1}-t_{n-2}}) \\\\\n",
    "    L_1 &= (\\frac{t-t_{n+1}}{t_{n}-t_{n+1}})(\\frac{t-t_{n-1}}{t_{n}-t_{n-1}})(\\frac{t-t_{n-2}}{t_{n}-t_{n-2}})  \\\\\n",
    "    L_2 &= (\\frac{t-t_{n+1}}{t_{n-1}-t_{n+1}})(\\frac{t-t_{n}}{t_{n-1}-t_{n}})(\\frac{t-t_{n-2}}{t_{n-1}-t_{n-2}})   \\\\\n",
    "    L_3 &= (\\frac{t-t_{n+1}}{t_{n-2}-t_{n+1}})(\\frac{t-t_{n}}{t_{n-2}-t_{n}})(\\frac{t-t_{n-1}}{t_{n-2}-t_{n-1}})\n",
    "\\end{align}"
   ]
  },
  {
   "cell_type": "code",
   "execution_count": 7,
   "id": "335d0445",
   "metadata": {},
   "outputs": [
    {
     "name": "stdout",
     "output_type": "stream",
     "text": [
      "Los pesos para Adams Moulton de 4 puntos son: [3*h/8, 19*h/24, -5*h/24, h/24]\n"
     ]
    }
   ],
   "source": [
    "F0 = (t-(0))*(t-(-h))*(t-(-2*h))/((h)*(2*h)*(3*h))\n",
    "F1 = (t-(h))*(t-(-h))*(t-(-2*h))/((-h)*(h)*(2*h))\n",
    "F2 = (t-(h))*(t-(0))*(t-(-2*h))/((-2*h)*(-h)*(h))\n",
    "F3 = (t-(h))*(t-(0))*(t-(-h))/((-3*h)*(-2*h)*(-h))\n",
    "I0 = sym.integrate(F0, (t,0,h))\n",
    "I1 = sym.integrate(F1, (t,0,h))\n",
    "I2 = sym.integrate(F2, (t,0,h))\n",
    "I3 = sym.integrate(F3, (t,0,h))\n",
    "W = [I0, I1, I2, I3]\n",
    "print(\"Los pesos para Adams Moulton de 4 puntos son:\", str(W))"
   ]
  }
 ],
 "metadata": {
  "kernelspec": {
   "display_name": "Python 3 (ipykernel)",
   "language": "python",
   "name": "python3"
  },
  "language_info": {
   "codemirror_mode": {
    "name": "ipython",
    "version": 3
   },
   "file_extension": ".py",
   "mimetype": "text/x-python",
   "name": "python",
   "nbconvert_exporter": "python",
   "pygments_lexer": "ipython3",
   "version": "3.9.5"
  }
 },
 "nbformat": 4,
 "nbformat_minor": 5
}
