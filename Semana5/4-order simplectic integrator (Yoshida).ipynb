{
 "cells": [
  {
   "cell_type": "code",
   "execution_count": 1,
   "id": "5715cdae",
   "metadata": {},
   "outputs": [],
   "source": [
    "import numpy as np\n",
    "import matplotlib.pyplot as plt"
   ]
  },
  {
   "cell_type": "markdown",
   "id": "19d4c2e4",
   "metadata": {},
   "source": [
    "# Punto 4\n",
    "\n",
    "## LeapFrog Matricial y no matricial\n",
    "\n",
    "\n",
    "$t \\in (0,10) $ \n",
    "\n",
    "Matriz simpléctica \n",
    "\n",
    "$J = \\begin{pmatrix}\n",
    "0 & 1 \\\\\n",
    "-1 & 0 \n",
    "\\end{pmatrix}$\n",
    "\n",
    "Condiciones iniciales\n",
    "\n",
    "$U^{0} = \\begin{pmatrix}\n",
    "1  \\\\\n",
    "0  \n",
    "\\end{pmatrix}$"
   ]
  },
  {
   "cell_type": "code",
   "execution_count": 2,
   "id": "5cc91b27",
   "metadata": {},
   "outputs": [],
   "source": [
    "#Discretización temporal\n",
    "N= 1001\n",
    "t = np.linspace(0,10,N)\n",
    "gl = 2 #Grados de libertad\n",
    "\n",
    "#Parámetros\n",
    "m,k = 1,1"
   ]
  },
  {
   "cell_type": "code",
   "execution_count": 3,
   "id": "a99cac33",
   "metadata": {},
   "outputs": [],
   "source": [
    "def GetLeapFrog(r0, t):\n",
    "    J = np.array([[0,1], [-1,0]]) #Matriz simpléctica\n",
    "    def F(U):\n",
    "        F = np.dot(J, U)\n",
    "        return F\n",
    "    h = (t[-1] - t[0])/(N-1)\n",
    "    U = np.zeros((len(t), gl ))\n",
    "    U[0] = r0\n",
    "    \n",
    "    for i in range(1,len(t)):\n",
    "        if i == 1:\n",
    "            U[i] = U[i-1] + h*F(U[i-1])\n",
    "        else:\n",
    "            U[i] = U[i-2] + 2*h*F(U[i-1])\n",
    "    E = np.zeros((len(t), gl))\n",
    "    x = U[:,0]\n",
    "    v = U[:,1]\n",
    "\n",
    "    return x, v"
   ]
  },
  {
   "cell_type": "code",
   "execution_count": 4,
   "id": "e2e47873",
   "metadata": {},
   "outputs": [],
   "source": [
    "def GetA(x):\n",
    "    return -x\n",
    "def GetLeapFrog1(r0,t):\n",
    "    \n",
    "    N = len(t)\n",
    "    h = t[1] - t[0]\n",
    "    \n",
    "    \n",
    "    x = np.zeros(N)\n",
    "    v = np.zeros(N) \n",
    "    \n",
    "    # El inicializador\n",
    "    x[0] = r0[0]\n",
    "    v[0] = r0[1] - 0.5*h*GetA(x[0])\n",
    "    \n",
    "    for i in range(1,N):\n",
    "        \n",
    "        v[i] = v[i-1] + h*GetA(x[i-1])\n",
    "        x[i] = x[i-1] + h*v[i]\n",
    "    \n",
    "    X = np.array([])\n",
    "    for i in range(len(x)-1):\n",
    "        X = np.append(X,(x[i]+x[i+1])*0.5)\n",
    "\n",
    "    V = v[1:]\n",
    "    \n",
    "    return X,V"
   ]
  },
  {
   "cell_type": "markdown",
   "id": "80999621",
   "metadata": {},
   "source": [
    "# Yoshida"
   ]
  },
  {
   "cell_type": "code",
   "execution_count": 7,
   "id": "b2e3bb9f",
   "metadata": {},
   "outputs": [],
   "source": [
    "parameter = np.cbrt(2)\n",
    "w0 = -(parameter)/(2-parameter)\n",
    "w1 = 1/(2-parameter)\n",
    "c1,c4 = w1/2, w1/2\n",
    "c2, c3 = (w0+w1)/2, (w0+w1)/2\n",
    "d1, d3 = w1,w1\n",
    "d2 = w0"
   ]
  },
  {
   "cell_type": "code",
   "execution_count": 8,
   "id": "5a36eeb4",
   "metadata": {},
   "outputs": [],
   "source": [
    "def a(x):\n",
    "    return -x"
   ]
  },
  {
   "cell_type": "code",
   "execution_count": 10,
   "id": "638cb869",
   "metadata": {},
   "outputs": [],
   "source": [
    "def Yoshida(r0, t):\n",
    "    N = len(t)\n",
    "    h = t[1] - t[0]\n",
    "    \n",
    "    X = np.zeros(N)\n",
    "    V = np.zeros(N)\n",
    "    \n",
    "    X[0]=r0[0]\n",
    "    V[0]=r0[1]\n",
    "    \n",
    "    for i in range(1, N):\n",
    "        x_1 = X[i-1] +c1*V[i-1]*h\n",
    "        v_1 = V[i-1] +d1*a(x_1)*h\n",
    "        \n",
    "        x_2 = x_1 + c2*v_1*h\n",
    "        v_2 = v_1 + d2*a(x_2)*h\n",
    "        \n",
    "        x_3 = x_2 + c3*v_2*h\n",
    "        v_3 = v_2 + d3*a(x_3)*h\n",
    "        \n",
    "        x_4 = x_3 + c4*v_3*h\n",
    "        \n",
    "        X[i] = x_4\n",
    "        V[i] = v_3\n",
    "        \n",
    "    return X, V"
   ]
  },
  {
   "cell_type": "code",
   "execution_count": 11,
   "id": "e3dae7ce",
   "metadata": {},
   "outputs": [],
   "source": [
    "r0 = np.array([1,0])\n",
    "x, v = GetLeapFrog(r0, t)\n",
    "x1, v1 = GetLeapFrog1(r0, t)\n",
    "x2, v2 = Yoshida(r0, t)"
   ]
  },
  {
   "cell_type": "code",
   "execution_count": 12,
   "id": "b18fae42",
   "metadata": {},
   "outputs": [],
   "source": [
    "#Energías\n",
    "\"Leapfrog\"\n",
    "Ke1 = 0.5*v1**2\n",
    "Ep1 = 0.5*x1**2\n",
    "\"Leapfrog Matricial\"\n",
    "Ke2 = 0.5*v**2\n",
    "Ep2 = 0.5*x**2\n",
    "\"Yoshida\"\n",
    "Ke3 = 0.5*v2**2\n",
    "Ep3 = 0.5*x2**2"
   ]
  },
  {
   "cell_type": "code",
   "execution_count": 16,
   "id": "48925720",
   "metadata": {},
   "outputs": [
    {
     "data": {
      "text/plain": [
       "<matplotlib.legend.Legend at 0x20570a65850>"
      ]
     },
     "execution_count": 16,
     "metadata": {},
     "output_type": "execute_result"
    },
    {
     "data": {
      "image/png": "[encoded data removed]",
      "text/plain": [
       "<Figure size 720x720 with 1 Axes>"
      ]
     },
     "metadata": {
      "needs_background": "light"
     },
     "output_type": "display_data"
    }
   ],
   "source": [
    "fig = plt.figure(figsize=(10,10))\n",
    "meanE = np.average(Ke+U)\n",
    "plt.plot(t[1:], Ke1 + Ep1 , c = 'b', label = \"2-order simpletic Integrator\")\n",
    "plt.plot(t, Ke2+Ep2 , c = 'g', label = \"2-order simpletic Integrator (Matrix)\")\n",
    "plt.plot(t, Ke3+Ep3 , c = 'orange', label = \"4-order simpletic Integrator\")\n",
    "plt.xlabel(\"$t[s]$\")\n",
    "plt.ylabel(\"$E[J]$\")\n",
    "plt.ylim(0.4999,0.5001)\n",
    "plt.legend(loc=0)"
   ]
  }
 ],
 "metadata": {
  "kernelspec": {
   "display_name": "Python 3 (ipykernel)",
   "language": "python",
   "name": "python3"
  },
  "language_info": {
   "codemirror_mode": {
    "name": "ipython",
    "version": 3
   },
   "file_extension": ".py",
   "mimetype": "text/x-python",
   "name": "python",
   "nbconvert_exporter": "python",
   "pygments_lexer": "ipython3",
   "version": "3.9.5"
  }
 },
 "nbformat": 4,
 "nbformat_minor": 5
}
