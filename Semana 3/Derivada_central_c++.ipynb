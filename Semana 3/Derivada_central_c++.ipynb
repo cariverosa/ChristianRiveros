{
  "nbformat": 4,
  "nbformat_minor": 0,
  "metadata": {
    "colab": {
      "name": "Derivada_central_c++.ipynb",
      "provenance": []
    },
    "kernelspec": {
      "name": "python3",
      "display_name": "Python 3"
    },
    "language_info": {
      "name": "python"
    }
  },
  "cells": [
    {
      "cell_type": "code",
      "execution_count": null,
      "metadata": {
        "id": "652vBA-QPxaq"
      },
      "outputs": [],
      "source": [
        "%%writefile main.cpp\n",
        "\n",
        "#include <iostream>\n",
        "#include <cmath>\n",
        "\n",
        "using namespace std;\n",
        "\n",
        "double f (double x){\n",
        "   return exp(-(x*x));\n",
        "}\n",
        "\n",
        "double derivada(double x, double h){\n",
        "    double derivada = (f(x+h)- f(x-h))/(2*h);\n",
        "    return derivada\n",
        "}\n",
        "\n",
        "int main(){\n",
        "    \n",
        "    return 0\n",
        "}"
      ]
    }
  ]
}