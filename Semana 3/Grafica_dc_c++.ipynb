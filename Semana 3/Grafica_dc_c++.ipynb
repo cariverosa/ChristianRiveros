{
  "nbformat": 4,
  "nbformat_minor": 0,
  "metadata": {
    "colab": {
      "name": "Grafica_dc_c++.ipynb",
      "provenance": []
    },
    "kernelspec": {
      "name": "python3",
      "display_name": "Python 3"
    },
    "language_info": {
      "name": "python"
    }
  },
  "cells": [
    {
      "cell_type": "code",
      "execution_count": 1,
      "metadata": {
        "id": "3rkyVfReeoQ3"
      },
      "outputs": [],
      "source": [
        "import numpy as np\n",
        "import matplotlib.pyplot as plt"
      ]
    },
    {
      "cell_type": "code",
      "source": [
        "txt= np.loadtxt(\"datos.txt\")\n",
        "x=np.zeros(len(txt))\n",
        "y=np.zeros(len(txt))"
      ],
      "metadata": {
        "id": "0UGSSO0_kqWV"
      },
      "execution_count": 2,
      "outputs": []
    },
    {
      "cell_type": "code",
      "source": [
        "for i in range(len(txt)):\n",
        "    x[i],y[i]=txt[i][0],txt[i][1]"
      ],
      "metadata": {
        "id": "GsRq8OrolI24"
      },
      "execution_count": 3,
      "outputs": []
    },
    {
      "cell_type": "code",
      "source": [
        "plt.figure(figsize=(5,5))\n",
        "plt.plot(x,y,label=\"Derivada central c++\")\n",
        "plt.legend()\n",
        "plt.savefig(\"derivada_central_c++\")"
      ],
      "metadata": {
        "colab": {
          "base_uri": "https://localhost:8080/",
          "height": 320
        },
        "id": "kR47akSBlL-x",
        "outputId": "6ab886d6-88c7-467e-eeec-e6929e90ab3d"
      },
      "execution_count": 5,
      "outputs": [
        {
          "output_type": "display_data",
          "data": {
            "image/png": "[encoded data removed]",
            "text/plain": [
              "<Figure size 360x360 with 1 Axes>"
            ]
          },
          "metadata": {
            "needs_background": "light"
          }
        }
      ]
    },
    {
      "cell_type": "code",
      "source": [
        ""
      ],
      "metadata": {
        "id": "ONMzYtWClOGC"
      },
      "execution_count": null,
      "outputs": []
    }
  ]
}