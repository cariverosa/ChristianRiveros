{
  "nbformat": 4,
  "nbformat_minor": 0,
  "metadata": {
    "colab": {
      "name": "Termodinamica.ipynb",
      "provenance": [],
      "collapsed_sections": []
    },
    "kernelspec": {
      "name": "python3",
      "display_name": "Python 3"
    },
    "language_info": {
      "name": "python"
    }
  },
  "cells": [
    {
      "cell_type": "code",
      "execution_count": 1,
      "metadata": {
        "id": "fx1BLj7qDafp"
      },
      "outputs": [],
      "source": [
        "import numpy as np\n",
        "import matplotlib.pyplot as plt"
      ]
    },
    {
      "cell_type": "code",
      "source": [
        "N = 100\n",
        "t = np.linspace(0, 5, N)\n",
        "#Constantes\n",
        "A = 0.01\n",
        "l = 0.30\n",
        "k = 389.6\n",
        "n = 1\n",
        "cv = (3/2)*8.314\n",
        "C = (k*A)/(n*cv*l)"
      ],
      "metadata": {
        "id": "GHEXxYEwOnug"
      },
      "execution_count": 40,
      "outputs": []
    },
    {
      "cell_type": "code",
      "source": [
        "init_conditions = [400, 200]\n",
        "def f0(T1, T2, C):\n",
        "  return -C*(T1-T2)\n",
        "def f1(T1, T2, C):\n",
        "  return C*(T1 - T2)\n"
      ],
      "metadata": {
        "id": "8Dtf_ieRQ5n4"
      },
      "execution_count": 49,
      "outputs": []
    },
    {
      "cell_type": "code",
      "source": [
        "def getEuler2(fo, f1, init_conditions, t):\n",
        "    h = (t[-1] - t[0])/(len(t)-1)\n",
        "\n",
        "    T1 = np.zeros(N)\n",
        "    T2 = np.zeros(N)\n",
        "\n",
        "    T1[0] = init_conditions[0]\n",
        "    T2[0] = init_conditions[1]\n",
        "\n",
        "    k1 = np.zeros(2)\n",
        "    k2 = np.zeros(2)\n",
        "\n",
        "    for i in range(1, len(t)):\n",
        "\n",
        "\n",
        "      k1[0] = f0(T1[i-1], T2[i-1], C)\n",
        "      k1[1] = f1(T1[i-1], T2[i-1], C)\n",
        "\n",
        "      k2[0] = f0(T1[i-1] + h*k1[0], T2[i-1] + h*k1[1], C)\n",
        "      k2[1] = f1(T1[i-1] + h*k1[0], T2[i-1] + h*k1[1], C)\n",
        "\n",
        "      T1[i] = T1[i-1] + 0.5*h*(k1[0]+k2[0])\n",
        "      T2[i] = T2[i-1] + 0.5*h*(k1[1]+k2[1])\n",
        "\n",
        "    return T1, T2"
      ],
      "metadata": {
        "id": "l8fLlStmUGUW"
      },
      "execution_count": 50,
      "outputs": []
    },
    {
      "cell_type": "code",
      "source": [
        "T_1, T_2 = getEuler2(f0, f1, init_conditions, t)"
      ],
      "metadata": {
        "id": "MGmGlzEyXwDm"
      },
      "execution_count": 51,
      "outputs": []
    },
    {
      "cell_type": "code",
      "source": [
        "fig = plt.figure(figsize=(5, 5))\n",
        "ax = fig.add_subplot(111)\n",
        "plt.xlabel(\"Tiempo [s]\")\n",
        "plt.ylabel(\"Temperatura [K]\")\n",
        "ax.plot(t, T_1, c = 'k', label = \"Euler 2 para T1\")\n",
        "ax.plot(t, T_2, c = 'r', label = \"Euler 2 para T2\")\n",
        "plt.legend()\n"
      ],
      "metadata": {
        "colab": {
          "base_uri": "https://localhost:8080/",
          "height": 351
        },
        "id": "JFoV-SO5YQTT",
        "outputId": "c20bba00-791a-4ae3-966c-283e6af3cec7"
      },
      "execution_count": 53,
      "outputs": [
        {
          "output_type": "execute_result",
          "data": {
            "text/plain": [
              "<matplotlib.legend.Legend at 0x7faf4f92b0d0>"
            ]
          },
          "metadata": {},
          "execution_count": 53
        },
        {
          "output_type": "display_data",
          "data": {
            "image/png": "[encoded data removed]",
            "text/plain": [
              "<Figure size 360x360 with 1 Axes>"
            ]
          },
          "metadata": {
            "needs_background": "light"
          }
        }
      ]
    },
    {
      "cell_type": "markdown",
      "source": [
        "Pasado un tiempo t ambos cuerpos logran llegar a un equilibrio termodinámico. Se puede observar que la temperatura de equilibrio es 300K por lo que: \\\\\n",
        "$\\lim_{t \\to ∞}T_{1}(t) = \\lim_{t \\to ∞}T_{2}(t) = 300K$. \\\\\n",
        "Dicho fenómeno se logra gracias al flujo de calor entre ambas secciones del cilindro a través del alambre de cobre."
      ],
      "metadata": {
        "id": "tKZvwlwnfnf2"
      }
    },
    {
      "cell_type": "code",
      "source": [
        ""
      ],
      "metadata": {
        "id": "dxUw8KHth4eF"
      },
      "execution_count": null,
      "outputs": []
    }
  ]
}