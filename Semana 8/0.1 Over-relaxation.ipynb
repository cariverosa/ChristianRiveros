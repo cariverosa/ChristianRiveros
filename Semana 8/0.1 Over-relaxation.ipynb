{
 "cells": [
  {
   "cell_type": "code",
   "execution_count": 50,
   "id": "85894aae",
   "metadata": {},
   "outputs": [],
   "source": [
    "import numpy as np\n",
    "import matplotlib.pyplot as plt\n",
    "from tqdm import tqdm"
   ]
  },
  {
   "cell_type": "code",
   "execution_count": 51,
   "id": "250a59f8",
   "metadata": {},
   "outputs": [],
   "source": [
    "Min, Max, N = 0.,40.,11\n",
    "x = np.linspace(Min,Max,N)\n",
    "y = x.copy()\n",
    "h = x[1]-x[0]"
   ]
  },
  {
   "cell_type": "code",
   "execution_count": 52,
   "id": "b3116a08",
   "metadata": {},
   "outputs": [],
   "source": [
    "def h1(y):\n",
    "    return 100.\n",
    "def h2(y):\n",
    "    return 0.\n",
    "def h3(x):\n",
    "    return 0.\n",
    "def h4(x):\n",
    "    return 0."
   ]
  },
  {
   "cell_type": "code",
   "execution_count": 53,
   "id": "da7cbee8",
   "metadata": {},
   "outputs": [],
   "source": [
    "def InitT():\n",
    "    \n",
    "    T = np.zeros((N,N))\n",
    "    \n",
    "    T[0,:] = h1(y)\n",
    "    T[-1,:] = h2(y)\n",
    "    \n",
    "    T[:,0] = h3(x)\n",
    "    T[:,-1] = h4(x)\n",
    "    \n",
    "    return T"
   ]
  },
  {
   "cell_type": "code",
   "execution_count": 54,
   "id": "2b7ed011",
   "metadata": {},
   "outputs": [],
   "source": [
    "def GetRelaxation(T, omega, Nit = int(1e5),  tolerancia = 1e-2):\n",
    "    \n",
    "    itmax = 0\n",
    "    \n",
    "    for it in range(Nit):\n",
    "        \n",
    "        dmax = 0.\n",
    "        \n",
    "        for i in range(1, len(x)-1):\n",
    "            for j in range(1, len(y)-1):\n",
    "                tmp = 0.25*(T[i+1,j]+T[i-1,j]+T[i,j+1]+T[i,j-1])\n",
    "                r = omega*(tmp - T[i,j])\n",
    "                \n",
    "                T[i,j] += r\n",
    "                \n",
    "                if np.abs(r) > dmax:\n",
    "                    dmax = r\n",
    "        \n",
    "        if np.abs(dmax) < tolerancia:\n",
    "            print(it)\n",
    "            itmax = it\n",
    "            break\n",
    "            \n",
    "    return T,itmax"
   ]
  },
  {
   "cell_type": "code",
   "execution_count": 55,
   "id": "4bc8d707",
   "metadata": {},
   "outputs": [
    {
     "name": "stdout",
     "output_type": "stream",
     "text": [
      "585\n",
      "345\n",
      "243\n",
      "185\n",
      "147\n",
      "120\n",
      "99\n",
      "83\n",
      "69\n",
      "58\n",
      "49\n",
      "40\n",
      "33\n",
      "25\n",
      "18\n",
      "19\n",
      "19\n",
      "32\n",
      "64\n"
     ]
    }
   ],
   "source": [
    "omega = np.arange(0.1,2.0, 0.1)\n",
    "\n",
    "iterations =[]\n",
    "count = 0\n",
    "for val in omega:\n",
    "    T = InitT()\n",
    "    Tf1,ite =  GetRelaxation(T, omega=val)\n",
    "    count +=1\n",
    "   \n",
    "\n",
    "    iterations.append(ite)"
   ]
  },
  {
   "cell_type": "code",
   "execution_count": 56,
   "id": "90f54998",
   "metadata": {},
   "outputs": [],
   "source": [
    "min_it = min(iterations)\n",
    "min_ = np.argmin(iterations)\n",
    "w_opt= omega[min_]"
   ]
  },
  {
   "cell_type": "code",
   "execution_count": 57,
   "id": "01ae85ba",
   "metadata": {},
   "outputs": [
    {
     "data": {
      "image/png": "[encoded data removed]",
      "text/plain": [
       "<Figure size 432x288 with 1 Axes>"
      ]
     },
     "metadata": {
      "needs_background": "light"
     },
     "output_type": "display_data"
    }
   ],
   "source": [
    "plt.title(\"Optimization of the Over-relaxation Method\")\n",
    "plt.plot(omega, iterations)\n",
    "plt.scatter(w_opt, min_it, c = 'r', label = \"Best w = {:.2f}\".format(w_opt))\n",
    "plt.xlabel('w')\n",
    "plt.ylabel('Iterations')\n",
    "plt.grid()\n",
    "plt.legend()\n",
    "plt.show()\n"
   ]
  },
  {
   "cell_type": "markdown",
   "id": "cd9d5359",
   "metadata": {},
   "source": [
    "El parámetro óptimo es 1.5\n",
    "\n",
    "Si $w \\geq 2$ el método de sobre relajación no converge porque el radio espectral de la matriz > 1."
   ]
  }
 ],
 "metadata": {
  "kernelspec": {
   "display_name": "Python 3 (ipykernel)",
   "language": "python",
   "name": "python3"
  },
  "language_info": {
   "codemirror_mode": {
    "name": "ipython",
    "version": 3
   },
   "file_extension": ".py",
   "mimetype": "text/x-python",
   "name": "python",
   "nbconvert_exporter": "python",
   "pygments_lexer": "ipython3",
   "version": "3.9.5"
  }
 },
 "nbformat": 4,
 "nbformat_minor": 5
}
